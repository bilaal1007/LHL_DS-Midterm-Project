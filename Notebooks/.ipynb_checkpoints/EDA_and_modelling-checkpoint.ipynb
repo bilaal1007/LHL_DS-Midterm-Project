{
 "cells": [
  {
   "cell_type": "code",
   "execution_count": 153,
   "id": "883eba6f-0a95-4b0b-8d27-ea877766c376",
   "metadata": {
    "tags": []
   },
   "outputs": [],
   "source": [
    "#imports and formatting\n",
    "#libraries to import\n",
    "import requests\n",
    "import os\n",
    "import pandas as pd\n",
    "import json\n",
    "import time\n",
    "import numpy as np\n",
    "import datetime\n",
    "pd.set_option('display.max_columns', None)\n",
    "import seaborn as sns \n",
    "import matplotlib.pyplot as plt"
   ]
  },
  {
   "cell_type": "code",
   "execution_count": 154,
   "id": "d64fff70-cf38-4417-b41a-28d71b951b5d",
   "metadata": {
    "tags": []
   },
   "outputs": [],
   "source": [
    "#import dataframes \n",
    "#inspect dfs\n",
    "#merge and clean duplicates, nulls etc "
   ]
  },
  {
   "cell_type": "code",
   "execution_count": 155,
   "id": "9fa698d8-10e0-45bc-8bad-816b05613e57",
   "metadata": {},
   "outputs": [],
   "source": [
    "#import API data and scraped data for US and Canadian markets\n",
    "US_data = pd.read_csv(\"C:\\\\Users\\\\IRC-240\\\\Desktop\\\\LHL Bootcamo\\\\LHL_DS-Midterm-Project\\\\data\\\\top500_companies_US.csv\")\n",
    "CAN_data =  pd.read_csv(\"C:\\\\Users\\\\IRC-240\\\\Desktop\\\\LHL Bootcamo\\\\LHL_DS-Midterm-Project\\\\data\\\\top500_companies_canada.csv\")"
   ]
  },
  {
   "cell_type": "code",
   "execution_count": 156,
   "id": "ea558fb3",
   "metadata": {},
   "outputs": [],
   "source": [
    "#inspect dfs, check for nulls, check for dupes and drop\n",
    "# check data types are proper and change if needed\n"
   ]
  },
  {
   "cell_type": "markdown",
   "id": "28727be6",
   "metadata": {},
   "source": [
    "Clean US data from Polygon API"
   ]
  },
  {
   "cell_type": "code",
   "execution_count": 157,
   "id": "083c982f",
   "metadata": {},
   "outputs": [
    {
     "data": {
      "text/plain": [
       "Date                  2\n",
       "Company Name          0\n",
       "Ticker Symbol         0\n",
       "Oct2023 Market Cap    0\n",
       "Open                  2\n",
       "Low                   2\n",
       "High                  2\n",
       "Close                 2\n",
       "Volume                2\n",
       "dtype: int64"
      ]
     },
     "execution_count": 157,
     "metadata": {},
     "output_type": "execute_result"
    }
   ],
   "source": [
    "#check for nulls for US Market Data \n",
    "US_data.isnull().sum()\n"
   ]
  },
  {
   "cell_type": "code",
   "execution_count": 158,
   "id": "0aa75ffd",
   "metadata": {},
   "outputs": [
    {
     "data": {
      "text/plain": [
       "(       Date         Company Name Ticker Symbol Oct2023 Market Cap  Open  Low  \\\n",
       " 2922    NaN  Berkshire Hathaway          BRK-B          $744.39 B   NaN  NaN   \n",
       " 132599  NaN         Brown Forman          BF-A           $27.13 B   NaN  NaN   \n",
       " \n",
       "         High  Close  Volume  \n",
       " 2922     NaN    NaN     NaN  \n",
       " 132599   NaN    NaN     NaN  ,\n",
       " [0         False\n",
       "  1         False\n",
       "  2         False\n",
       "  3         False\n",
       "  4         False\n",
       "            ...  \n",
       "  247626    False\n",
       "  247627    False\n",
       "  247628    False\n",
       "  247629    False\n",
       "  247630    False\n",
       "  Name: Open, Length: 247631, dtype: bool],\n",
       " [0         False\n",
       "  1         False\n",
       "  2         False\n",
       "  3         False\n",
       "  4         False\n",
       "            ...  \n",
       "  247626    False\n",
       "  247627    False\n",
       "  247628    False\n",
       "  247629    False\n",
       "  247630    False\n",
       "  Name: Low, Length: 247631, dtype: bool],\n",
       " [0         False\n",
       "  1         False\n",
       "  2         False\n",
       "  3         False\n",
       "  4         False\n",
       "            ...  \n",
       "  247626    False\n",
       "  247627    False\n",
       "  247628    False\n",
       "  247629    False\n",
       "  247630    False\n",
       "  Name: High, Length: 247631, dtype: bool],\n",
       " [0         False\n",
       "  1         False\n",
       "  2         False\n",
       "  3         False\n",
       "  4         False\n",
       "            ...  \n",
       "  247626    False\n",
       "  247627    False\n",
       "  247628    False\n",
       "  247629    False\n",
       "  247630    False\n",
       "  Name: Close, Length: 247631, dtype: bool],\n",
       " [0         False\n",
       "  1         False\n",
       "  2         False\n",
       "  3         False\n",
       "  4         False\n",
       "            ...  \n",
       "  247626    False\n",
       "  247627    False\n",
       "  247628    False\n",
       "  247629    False\n",
       "  247630    False\n",
       "  Name: Volume, Length: 247631, dtype: bool])"
      ]
     },
     "execution_count": 158,
     "metadata": {},
     "output_type": "execute_result"
    }
   ],
   "source": [
    "#further inspect missing data\n",
    "missing_USdata = US_data[US_data['Date'].isnull()] , [US_data['Open'].isnull()] , [US_data['Low'].isnull()] , [US_data['High'].isnull()] , [US_data['Close'].isnull()], [US_data['Volume'].isnull()]\n",
    "missing_USdata"
   ]
  },
  {
   "cell_type": "code",
   "execution_count": 159,
   "id": "10e1f63c",
   "metadata": {},
   "outputs": [
    {
     "data": {
      "text/html": [
       "<div>\n",
       "<style scoped>\n",
       "    .dataframe tbody tr th:only-of-type {\n",
       "        vertical-align: middle;\n",
       "    }\n",
       "\n",
       "    .dataframe tbody tr th {\n",
       "        vertical-align: top;\n",
       "    }\n",
       "\n",
       "    .dataframe thead th {\n",
       "        text-align: right;\n",
       "    }\n",
       "</style>\n",
       "<table border=\"1\" class=\"dataframe\">\n",
       "  <thead>\n",
       "    <tr style=\"text-align: right;\">\n",
       "      <th></th>\n",
       "      <th>Date</th>\n",
       "      <th>Company Name</th>\n",
       "      <th>Ticker Symbol</th>\n",
       "      <th>Oct2023 Market Cap</th>\n",
       "      <th>Open</th>\n",
       "      <th>Low</th>\n",
       "      <th>High</th>\n",
       "      <th>Close</th>\n",
       "      <th>Volume</th>\n",
       "    </tr>\n",
       "  </thead>\n",
       "  <tbody>\n",
       "    <tr>\n",
       "      <th>2919</th>\n",
       "      <td>2023-10-26</td>\n",
       "      <td>Meta Platforms (Facebook)</td>\n",
       "      <td>META</td>\n",
       "      <td>$774.22 B</td>\n",
       "      <td>295.0000</td>\n",
       "      <td>279.4030</td>\n",
       "      <td>295.0000</td>\n",
       "      <td>288.3500</td>\n",
       "      <td>66684141.0</td>\n",
       "    </tr>\n",
       "    <tr>\n",
       "      <th>2920</th>\n",
       "      <td>2023-10-27</td>\n",
       "      <td>Meta Platforms (Facebook)</td>\n",
       "      <td>META</td>\n",
       "      <td>$774.22 B</td>\n",
       "      <td>294.4800</td>\n",
       "      <td>292.9700</td>\n",
       "      <td>299.3100</td>\n",
       "      <td>296.7300</td>\n",
       "      <td>29596256.0</td>\n",
       "    </tr>\n",
       "    <tr>\n",
       "      <th>2921</th>\n",
       "      <td>2023-10-30</td>\n",
       "      <td>Meta Platforms (Facebook)</td>\n",
       "      <td>META</td>\n",
       "      <td>$774.22 B</td>\n",
       "      <td>299.0900</td>\n",
       "      <td>299.0500</td>\n",
       "      <td>309.3967</td>\n",
       "      <td>302.6600</td>\n",
       "      <td>28435055.0</td>\n",
       "    </tr>\n",
       "    <tr>\n",
       "      <th>2922</th>\n",
       "      <td>NaN</td>\n",
       "      <td>Berkshire Hathaway</td>\n",
       "      <td>BRK-B</td>\n",
       "      <td>$744.39 B</td>\n",
       "      <td>NaN</td>\n",
       "      <td>NaN</td>\n",
       "      <td>NaN</td>\n",
       "      <td>NaN</td>\n",
       "      <td>NaN</td>\n",
       "    </tr>\n",
       "    <tr>\n",
       "      <th>2923</th>\n",
       "      <td>2021-11-01</td>\n",
       "      <td>Tesla</td>\n",
       "      <td>TSLA</td>\n",
       "      <td>$638.45 B</td>\n",
       "      <td>381.6667</td>\n",
       "      <td>372.8867</td>\n",
       "      <td>403.2500</td>\n",
       "      <td>402.8633</td>\n",
       "      <td>168128235.0</td>\n",
       "    </tr>\n",
       "    <tr>\n",
       "      <th>2924</th>\n",
       "      <td>2021-11-02</td>\n",
       "      <td>Tesla</td>\n",
       "      <td>TSLA</td>\n",
       "      <td>$638.45 B</td>\n",
       "      <td>386.4517</td>\n",
       "      <td>382.0000</td>\n",
       "      <td>402.8633</td>\n",
       "      <td>390.6667</td>\n",
       "      <td>128135646.0</td>\n",
       "    </tr>\n",
       "    <tr>\n",
       "      <th>2925</th>\n",
       "      <td>2021-11-03</td>\n",
       "      <td>Tesla</td>\n",
       "      <td>TSLA</td>\n",
       "      <td>$638.45 B</td>\n",
       "      <td>392.4433</td>\n",
       "      <td>384.2067</td>\n",
       "      <td>405.1300</td>\n",
       "      <td>404.6200</td>\n",
       "      <td>103877037.0</td>\n",
       "    </tr>\n",
       "  </tbody>\n",
       "</table>\n",
       "</div>"
      ],
      "text/plain": [
       "            Date               Company Name Ticker Symbol Oct2023 Market Cap  \\\n",
       "2919  2023-10-26  Meta Platforms (Facebook)          META          $774.22 B   \n",
       "2920  2023-10-27  Meta Platforms (Facebook)          META          $774.22 B   \n",
       "2921  2023-10-30  Meta Platforms (Facebook)          META          $774.22 B   \n",
       "2922         NaN        Berkshire Hathaway          BRK-B          $744.39 B   \n",
       "2923  2021-11-01                      Tesla          TSLA          $638.45 B   \n",
       "2924  2021-11-02                      Tesla          TSLA          $638.45 B   \n",
       "2925  2021-11-03                      Tesla          TSLA          $638.45 B   \n",
       "\n",
       "          Open       Low      High     Close       Volume  \n",
       "2919  295.0000  279.4030  295.0000  288.3500   66684141.0  \n",
       "2920  294.4800  292.9700  299.3100  296.7300   29596256.0  \n",
       "2921  299.0900  299.0500  309.3967  302.6600   28435055.0  \n",
       "2922       NaN       NaN       NaN       NaN          NaN  \n",
       "2923  381.6667  372.8867  403.2500  402.8633  168128235.0  \n",
       "2924  386.4517  382.0000  402.8633  390.6667  128135646.0  \n",
       "2925  392.4433  384.2067  405.1300  404.6200  103877037.0  "
      ]
     },
     "metadata": {},
     "output_type": "display_data"
    },
    {
     "data": {
      "text/html": [
       "<div>\n",
       "<style scoped>\n",
       "    .dataframe tbody tr th:only-of-type {\n",
       "        vertical-align: middle;\n",
       "    }\n",
       "\n",
       "    .dataframe tbody tr th {\n",
       "        vertical-align: top;\n",
       "    }\n",
       "\n",
       "    .dataframe thead th {\n",
       "        text-align: right;\n",
       "    }\n",
       "</style>\n",
       "<table border=\"1\" class=\"dataframe\">\n",
       "  <thead>\n",
       "    <tr style=\"text-align: right;\">\n",
       "      <th></th>\n",
       "      <th>Date</th>\n",
       "      <th>Company Name</th>\n",
       "      <th>Ticker Symbol</th>\n",
       "      <th>Oct2023 Market Cap</th>\n",
       "      <th>Open</th>\n",
       "      <th>Low</th>\n",
       "      <th>High</th>\n",
       "      <th>Close</th>\n",
       "      <th>Volume</th>\n",
       "    </tr>\n",
       "  </thead>\n",
       "  <tbody>\n",
       "    <tr>\n",
       "      <th>132596</th>\n",
       "      <td>2023-10-26</td>\n",
       "      <td>GlobalFoundries</td>\n",
       "      <td>GFS</td>\n",
       "      <td>$27.42 B</td>\n",
       "      <td>51.54</td>\n",
       "      <td>51.5400</td>\n",
       "      <td>53.0700</td>\n",
       "      <td>52.06</td>\n",
       "      <td>1222979.0</td>\n",
       "    </tr>\n",
       "    <tr>\n",
       "      <th>132597</th>\n",
       "      <td>2023-10-27</td>\n",
       "      <td>GlobalFoundries</td>\n",
       "      <td>GFS</td>\n",
       "      <td>$27.42 B</td>\n",
       "      <td>52.41</td>\n",
       "      <td>51.7200</td>\n",
       "      <td>52.7400</td>\n",
       "      <td>51.98</td>\n",
       "      <td>702067.0</td>\n",
       "    </tr>\n",
       "    <tr>\n",
       "      <th>132598</th>\n",
       "      <td>2023-10-30</td>\n",
       "      <td>GlobalFoundries</td>\n",
       "      <td>GFS</td>\n",
       "      <td>$27.42 B</td>\n",
       "      <td>51.98</td>\n",
       "      <td>49.7100</td>\n",
       "      <td>52.0000</td>\n",
       "      <td>49.91</td>\n",
       "      <td>1640764.0</td>\n",
       "    </tr>\n",
       "    <tr>\n",
       "      <th>132599</th>\n",
       "      <td>NaN</td>\n",
       "      <td>Brown Forman</td>\n",
       "      <td>BF-A</td>\n",
       "      <td>$27.13 B</td>\n",
       "      <td>NaN</td>\n",
       "      <td>NaN</td>\n",
       "      <td>NaN</td>\n",
       "      <td>NaN</td>\n",
       "      <td>NaN</td>\n",
       "    </tr>\n",
       "    <tr>\n",
       "      <th>132600</th>\n",
       "      <td>2021-11-01</td>\n",
       "      <td>Cheniere Energy\\r\\n</td>\n",
       "      <td>CQP</td>\n",
       "      <td>$26.98 B</td>\n",
       "      <td>43.94</td>\n",
       "      <td>43.6450</td>\n",
       "      <td>44.5066</td>\n",
       "      <td>44.10</td>\n",
       "      <td>159016.0</td>\n",
       "    </tr>\n",
       "    <tr>\n",
       "      <th>132601</th>\n",
       "      <td>2021-11-02</td>\n",
       "      <td>Cheniere Energy\\r\\n</td>\n",
       "      <td>CQP</td>\n",
       "      <td>$26.98 B</td>\n",
       "      <td>44.23</td>\n",
       "      <td>42.7500</td>\n",
       "      <td>44.2300</td>\n",
       "      <td>43.71</td>\n",
       "      <td>195260.0</td>\n",
       "    </tr>\n",
       "    <tr>\n",
       "      <th>132602</th>\n",
       "      <td>2021-11-03</td>\n",
       "      <td>Cheniere Energy\\r\\n</td>\n",
       "      <td>CQP</td>\n",
       "      <td>$26.98 B</td>\n",
       "      <td>43.97</td>\n",
       "      <td>42.4301</td>\n",
       "      <td>43.9700</td>\n",
       "      <td>43.59</td>\n",
       "      <td>231537.0</td>\n",
       "    </tr>\n",
       "  </tbody>\n",
       "</table>\n",
       "</div>"
      ],
      "text/plain": [
       "              Date         Company Name Ticker Symbol Oct2023 Market Cap  \\\n",
       "132596  2023-10-26      GlobalFoundries           GFS           $27.42 B   \n",
       "132597  2023-10-27      GlobalFoundries           GFS           $27.42 B   \n",
       "132598  2023-10-30      GlobalFoundries           GFS           $27.42 B   \n",
       "132599         NaN         Brown Forman          BF-A           $27.13 B   \n",
       "132600  2021-11-01  Cheniere Energy\\r\\n           CQP           $26.98 B   \n",
       "132601  2021-11-02  Cheniere Energy\\r\\n           CQP           $26.98 B   \n",
       "132602  2021-11-03  Cheniere Energy\\r\\n           CQP           $26.98 B   \n",
       "\n",
       "         Open      Low     High  Close     Volume  \n",
       "132596  51.54  51.5400  53.0700  52.06  1222979.0  \n",
       "132597  52.41  51.7200  52.7400  51.98   702067.0  \n",
       "132598  51.98  49.7100  52.0000  49.91  1640764.0  \n",
       "132599    NaN      NaN      NaN    NaN        NaN  \n",
       "132600  43.94  43.6450  44.5066  44.10   159016.0  \n",
       "132601  44.23  42.7500  44.2300  43.71   195260.0  \n",
       "132602  43.97  42.4301  43.9700  43.59   231537.0  "
      ]
     },
     "metadata": {},
     "output_type": "display_data"
    }
   ],
   "source": [
    "#get the surrounding data for the missing data to give context and help drive data cleaning decision to impute the data or remove\n",
    "for index in [2922, 132599]:\n",
    "    display(US_data.iloc[index-3:index+4])"
   ]
  },
  {
   "cell_type": "code",
   "execution_count": 160,
   "id": "a5f00f4a",
   "metadata": {},
   "outputs": [
    {
     "name": "stdout",
     "output_type": "stream",
     "text": [
      "Date                  0\n",
      "Company Name          0\n",
      "Ticker Symbol         0\n",
      "Oct2023 Market Cap    0\n",
      "Open                  0\n",
      "Low                   0\n",
      "High                  0\n",
      "Close                 0\n",
      "Volume                0\n",
      "dtype: int64\n"
     ]
    }
   ],
   "source": [
    "#after inspection I realized that the missing dates for both stocks is 2023 Oct 31, this API data was pulled on that same date and may result in the NaN values, for the purpose of the analysis it is okay to remove it as it will not skew data, we will just have a slightly smaller data set to work with. \n",
    "#the missing data does not suggest continuity as that is that last date in the API call parameter and will not skew data if excluded\n",
    "# remove the NaN rows, then reset index for proper continuity\n",
    "\n",
    "US_data_cleaned = US_data.dropna(subset= ['Date', 'Open', 'Close', 'High', 'Low', 'Volume'])\n",
    "\n",
    "US_data_cleaned.reset_index(drop=True, inplace=True)\n",
    "\n",
    "#QA check                         \n",
    "print(US_data_cleaned.isnull().sum())\n",
    "\n",
    "#passed "
   ]
  },
  {
   "cell_type": "code",
   "execution_count": 161,
   "id": "96102db2",
   "metadata": {},
   "outputs": [
    {
     "data": {
      "text/plain": [
       "0"
      ]
     },
     "execution_count": 161,
     "metadata": {},
     "output_type": "execute_result"
    }
   ],
   "source": [
    "#Check for duplicate rows \n",
    "US_data_cleaned.duplicated().sum()"
   ]
  },
  {
   "cell_type": "code",
   "execution_count": 162,
   "id": "2402ff68",
   "metadata": {},
   "outputs": [
    {
     "name": "stdout",
     "output_type": "stream",
     "text": [
      "Date                   object\n",
      "Company Name           object\n",
      "Ticker Symbol          object\n",
      "Oct2023 Market Cap     object\n",
      "Open                  float64\n",
      "Low                   float64\n",
      "High                  float64\n",
      "Close                 float64\n",
      "Volume                float64\n",
      "dtype: object\n"
     ]
    },
    {
     "data": {
      "text/html": [
       "<div>\n",
       "<style scoped>\n",
       "    .dataframe tbody tr th:only-of-type {\n",
       "        vertical-align: middle;\n",
       "    }\n",
       "\n",
       "    .dataframe tbody tr th {\n",
       "        vertical-align: top;\n",
       "    }\n",
       "\n",
       "    .dataframe thead th {\n",
       "        text-align: right;\n",
       "    }\n",
       "</style>\n",
       "<table border=\"1\" class=\"dataframe\">\n",
       "  <thead>\n",
       "    <tr style=\"text-align: right;\">\n",
       "      <th></th>\n",
       "      <th>Date</th>\n",
       "      <th>Company Name</th>\n",
       "      <th>Ticker Symbol</th>\n",
       "      <th>Oct2023 Market Cap</th>\n",
       "      <th>Open</th>\n",
       "      <th>Low</th>\n",
       "      <th>High</th>\n",
       "      <th>Close</th>\n",
       "      <th>Volume</th>\n",
       "    </tr>\n",
       "  </thead>\n",
       "  <tbody>\n",
       "    <tr>\n",
       "      <th>0</th>\n",
       "      <td>2021-11-01</td>\n",
       "      <td>Apple</td>\n",
       "      <td>AAPL</td>\n",
       "      <td>$2.669 T</td>\n",
       "      <td>148.985</td>\n",
       "      <td>147.80</td>\n",
       "      <td>149.70</td>\n",
       "      <td>148.96</td>\n",
       "      <td>74588257.0</td>\n",
       "    </tr>\n",
       "    <tr>\n",
       "      <th>1</th>\n",
       "      <td>2021-11-02</td>\n",
       "      <td>Apple</td>\n",
       "      <td>AAPL</td>\n",
       "      <td>$2.669 T</td>\n",
       "      <td>148.660</td>\n",
       "      <td>148.65</td>\n",
       "      <td>151.57</td>\n",
       "      <td>150.02</td>\n",
       "      <td>69121986.0</td>\n",
       "    </tr>\n",
       "    <tr>\n",
       "      <th>2</th>\n",
       "      <td>2021-11-03</td>\n",
       "      <td>Apple</td>\n",
       "      <td>AAPL</td>\n",
       "      <td>$2.669 T</td>\n",
       "      <td>150.390</td>\n",
       "      <td>149.82</td>\n",
       "      <td>151.97</td>\n",
       "      <td>151.49</td>\n",
       "      <td>54511532.0</td>\n",
       "    </tr>\n",
       "    <tr>\n",
       "      <th>3</th>\n",
       "      <td>2021-11-04</td>\n",
       "      <td>Apple</td>\n",
       "      <td>AAPL</td>\n",
       "      <td>$2.669 T</td>\n",
       "      <td>151.580</td>\n",
       "      <td>150.64</td>\n",
       "      <td>152.43</td>\n",
       "      <td>150.96</td>\n",
       "      <td>60394613.0</td>\n",
       "    </tr>\n",
       "    <tr>\n",
       "      <th>4</th>\n",
       "      <td>2021-11-05</td>\n",
       "      <td>Apple</td>\n",
       "      <td>AAPL</td>\n",
       "      <td>$2.669 T</td>\n",
       "      <td>151.890</td>\n",
       "      <td>150.06</td>\n",
       "      <td>152.20</td>\n",
       "      <td>151.28</td>\n",
       "      <td>65163883.0</td>\n",
       "    </tr>\n",
       "  </tbody>\n",
       "</table>\n",
       "</div>"
      ],
      "text/plain": [
       "         Date Company Name Ticker Symbol Oct2023 Market Cap     Open     Low  \\\n",
       "0  2021-11-01        Apple          AAPL           $2.669 T  148.985  147.80   \n",
       "1  2021-11-02        Apple          AAPL           $2.669 T  148.660  148.65   \n",
       "2  2021-11-03        Apple          AAPL           $2.669 T  150.390  149.82   \n",
       "3  2021-11-04        Apple          AAPL           $2.669 T  151.580  150.64   \n",
       "4  2021-11-05        Apple          AAPL           $2.669 T  151.890  150.06   \n",
       "\n",
       "     High   Close      Volume  \n",
       "0  149.70  148.96  74588257.0  \n",
       "1  151.57  150.02  69121986.0  \n",
       "2  151.97  151.49  54511532.0  \n",
       "3  152.43  150.96  60394613.0  \n",
       "4  152.20  151.28  65163883.0  "
      ]
     },
     "execution_count": 162,
     "metadata": {},
     "output_type": "execute_result"
    }
   ],
   "source": [
    "#verify and optimize data types for EDA\n",
    "print(US_data_cleaned.dtypes)\n",
    "US_data_cleaned.head()"
   ]
  },
  {
   "cell_type": "code",
   "execution_count": 163,
   "id": "46bb932a",
   "metadata": {},
   "outputs": [
    {
     "name": "stderr",
     "output_type": "stream",
     "text": [
      "C:\\Users\\IRC-240\\AppData\\Local\\Temp\\ipykernel_12728\\2918158057.py:2: SettingWithCopyWarning: \n",
      "A value is trying to be set on a copy of a slice from a DataFrame.\n",
      "Try using .loc[row_indexer,col_indexer] = value instead\n",
      "\n",
      "See the caveats in the documentation: https://pandas.pydata.org/pandas-docs/stable/user_guide/indexing.html#returning-a-view-versus-a-copy\n",
      "  US_data_cleaned['Date'] = pd.to_datetime(US_data_cleaned['Date'])\n",
      "C:\\Users\\IRC-240\\AppData\\Local\\Temp\\ipykernel_12728\\2918158057.py:19: SettingWithCopyWarning: \n",
      "A value is trying to be set on a copy of a slice from a DataFrame.\n",
      "Try using .loc[row_indexer,col_indexer] = value instead\n",
      "\n",
      "See the caveats in the documentation: https://pandas.pydata.org/pandas-docs/stable/user_guide/indexing.html#returning-a-view-versus-a-copy\n",
      "  US_data_cleaned['Oct2023 Market Cap'] = US_data_cleaned['Oct2023 Market Cap'].apply(convert_market_cap)\n"
     ]
    },
    {
     "data": {
      "text/plain": [
       "Date                  datetime64[ns]\n",
       "Company Name                  object\n",
       "Ticker Symbol                 object\n",
       "Oct2023 Market Cap           float64\n",
       "Open                         float64\n",
       "Low                          float64\n",
       "High                         float64\n",
       "Close                        float64\n",
       "Volume                       float64\n",
       "dtype: object"
      ]
     },
     "execution_count": 163,
     "metadata": {},
     "output_type": "execute_result"
    }
   ],
   "source": [
    "#convert date to datetime data type, convert market cap to float dtype\n",
    "US_data_cleaned['Date'] = pd.to_datetime(US_data_cleaned['Date'])\n",
    "\n",
    "\n",
    "#to convert market cap i need to account for million billion and trillion valuations and convert accordingly \n",
    "def convert_market_cap(valuation):\n",
    "    valuation = valuation.replace('$', '').replace(',', '')\n",
    "    \n",
    "    #check for Million or Billion or Trillion valuation and convert to float based on dollar value\n",
    "    if 'M' in valuation:\n",
    "        return float(valuation.replace('M','')) * 1e6 #multiply by digits in million \n",
    "    elif 'B' in  valuation:\n",
    "        return float(valuation.replace('B','')) * 1e9 #multiple by digits in billion \n",
    "    elif 'T' in valuation:\n",
    "        return float(valuation.replace('T','')) * 1e12 # multiply by digits in trillion \n",
    "    else:\n",
    "        return float(valuation)\n",
    "\n",
    "US_data_cleaned['Oct2023 Market Cap'] = US_data_cleaned['Oct2023 Market Cap'].apply(convert_market_cap)\n",
    "\n",
    "\n",
    "#QA check \n",
    "US_data_cleaned.dtypes\n",
    "#passed \n"
   ]
  },
  {
   "cell_type": "markdown",
   "id": "6fd7b9c5",
   "metadata": {},
   "source": [
    "EDA for US Market Data "
   ]
  },
  {
   "cell_type": "markdown",
   "id": "fa2359de",
   "metadata": {},
   "source": [
    "Q1 How big is the data frame in terms of columns and rows but also memory "
   ]
  },
  {
   "cell_type": "code",
   "execution_count": 164,
   "id": "f43978f1",
   "metadata": {},
   "outputs": [
    {
     "name": "stdout",
     "output_type": "stream",
     "text": [
      "rows: 247629\n",
      "columns: 9\n",
      "Memory:  44.06738758087158 mb\n"
     ]
    }
   ],
   "source": [
    "#Get number of rows and columns of the data frame of all the stocks \n",
    "rows, columns = US_data_cleaned.shape\n",
    "print (f'rows: {rows}')\n",
    "print (f'columns: {columns}')\n",
    "\n",
    "#code how much memory it takes to run the df, divide by 1024 sqaured sinces to get megabytes \n",
    "memory_usage_inMB = US_data_cleaned.memory_usage(deep=True).sum() / (1024*1024)\n",
    "\n",
    "\n",
    "print(('Memory: '), memory_usage_inMB,('mb'))"
   ]
  },
  {
   "cell_type": "markdown",
   "id": "dd201a91",
   "metadata": {},
   "source": [
    "Q2 What are the 5 most volatile stocks (measure using avg daily percent change over last 2 years)"
   ]
  },
  {
   "cell_type": "code",
   "execution_count": 165,
   "id": "2088cdc1",
   "metadata": {},
   "outputs": [],
   "source": [
    "#rough notes \n",
    "# calculate daily percent change for each stock \n",
    "#filter out for the last 2 years \n",
    "#group by ticker symbol and calcular avg daily percent changes \n",
    "#sort data to find top 5 stocks with the highest avg daily percent changes \n",
    "#plot using seaborn \n"
   ]
  },
  {
   "cell_type": "code",
   "execution_count": 166,
   "id": "a103e77c",
   "metadata": {},
   "outputs": [
    {
     "name": "stderr",
     "output_type": "stream",
     "text": [
      "C:\\Users\\IRC-240\\AppData\\Local\\Temp\\ipykernel_12728\\2649470306.py:1: SettingWithCopyWarning: \n",
      "A value is trying to be set on a copy of a slice from a DataFrame.\n",
      "Try using .loc[row_indexer,col_indexer] = value instead\n",
      "\n",
      "See the caveats in the documentation: https://pandas.pydata.org/pandas-docs/stable/user_guide/indexing.html#returning-a-view-versus-a-copy\n",
      "  US_data_cleaned['Daily Percent Change'] = US_data_cleaned.groupby('Company Name')['Close'].pct_change() * 100\n"
     ]
    }
   ],
   "source": [
    "US_data_cleaned['Daily Percent Change'] = US_data_cleaned.groupby('Company Name')['Close'].pct_change() * 100"
   ]
  },
  {
   "cell_type": "code",
   "execution_count": 167,
   "id": "64643165",
   "metadata": {},
   "outputs": [
    {
     "data": {
      "text/html": [
       "<div>\n",
       "<style scoped>\n",
       "    .dataframe tbody tr th:only-of-type {\n",
       "        vertical-align: middle;\n",
       "    }\n",
       "\n",
       "    .dataframe tbody tr th {\n",
       "        vertical-align: top;\n",
       "    }\n",
       "\n",
       "    .dataframe thead th {\n",
       "        text-align: right;\n",
       "    }\n",
       "</style>\n",
       "<table border=\"1\" class=\"dataframe\">\n",
       "  <thead>\n",
       "    <tr style=\"text-align: right;\">\n",
       "      <th></th>\n",
       "      <th>Date</th>\n",
       "      <th>Company Name</th>\n",
       "      <th>Ticker Symbol</th>\n",
       "      <th>Oct2023 Market Cap</th>\n",
       "      <th>Open</th>\n",
       "      <th>Low</th>\n",
       "      <th>High</th>\n",
       "      <th>Close</th>\n",
       "      <th>Volume</th>\n",
       "      <th>Daily Percent Change</th>\n",
       "    </tr>\n",
       "  </thead>\n",
       "  <tbody>\n",
       "    <tr>\n",
       "      <th>0</th>\n",
       "      <td>2021-11-01</td>\n",
       "      <td>Apple</td>\n",
       "      <td>AAPL</td>\n",
       "      <td>2.669000e+12</td>\n",
       "      <td>148.985</td>\n",
       "      <td>147.800</td>\n",
       "      <td>149.700</td>\n",
       "      <td>148.96</td>\n",
       "      <td>74588257.0</td>\n",
       "      <td>NaN</td>\n",
       "    </tr>\n",
       "    <tr>\n",
       "      <th>1</th>\n",
       "      <td>2021-11-02</td>\n",
       "      <td>Apple</td>\n",
       "      <td>AAPL</td>\n",
       "      <td>2.669000e+12</td>\n",
       "      <td>148.660</td>\n",
       "      <td>148.650</td>\n",
       "      <td>151.570</td>\n",
       "      <td>150.02</td>\n",
       "      <td>69121986.0</td>\n",
       "      <td>0.711600</td>\n",
       "    </tr>\n",
       "    <tr>\n",
       "      <th>2</th>\n",
       "      <td>2021-11-03</td>\n",
       "      <td>Apple</td>\n",
       "      <td>AAPL</td>\n",
       "      <td>2.669000e+12</td>\n",
       "      <td>150.390</td>\n",
       "      <td>149.820</td>\n",
       "      <td>151.970</td>\n",
       "      <td>151.49</td>\n",
       "      <td>54511532.0</td>\n",
       "      <td>0.979869</td>\n",
       "    </tr>\n",
       "    <tr>\n",
       "      <th>3</th>\n",
       "      <td>2021-11-04</td>\n",
       "      <td>Apple</td>\n",
       "      <td>AAPL</td>\n",
       "      <td>2.669000e+12</td>\n",
       "      <td>151.580</td>\n",
       "      <td>150.640</td>\n",
       "      <td>152.430</td>\n",
       "      <td>150.96</td>\n",
       "      <td>60394613.0</td>\n",
       "      <td>-0.349858</td>\n",
       "    </tr>\n",
       "    <tr>\n",
       "      <th>4</th>\n",
       "      <td>2021-11-05</td>\n",
       "      <td>Apple</td>\n",
       "      <td>AAPL</td>\n",
       "      <td>2.669000e+12</td>\n",
       "      <td>151.890</td>\n",
       "      <td>150.060</td>\n",
       "      <td>152.200</td>\n",
       "      <td>151.28</td>\n",
       "      <td>65163883.0</td>\n",
       "      <td>0.211977</td>\n",
       "    </tr>\n",
       "    <tr>\n",
       "      <th>...</th>\n",
       "      <td>...</td>\n",
       "      <td>...</td>\n",
       "      <td>...</td>\n",
       "      <td>...</td>\n",
       "      <td>...</td>\n",
       "      <td>...</td>\n",
       "      <td>...</td>\n",
       "      <td>...</td>\n",
       "      <td>...</td>\n",
       "      <td>...</td>\n",
       "    </tr>\n",
       "    <tr>\n",
       "      <th>247624</th>\n",
       "      <td>2023-10-24</td>\n",
       "      <td>AspenTech</td>\n",
       "      <td>AZPN</td>\n",
       "      <td>1.133000e+10</td>\n",
       "      <td>179.000</td>\n",
       "      <td>178.625</td>\n",
       "      <td>181.740</td>\n",
       "      <td>179.40</td>\n",
       "      <td>136873.0</td>\n",
       "      <td>0.402955</td>\n",
       "    </tr>\n",
       "    <tr>\n",
       "      <th>247625</th>\n",
       "      <td>2023-10-25</td>\n",
       "      <td>AspenTech</td>\n",
       "      <td>AZPN</td>\n",
       "      <td>1.133000e+10</td>\n",
       "      <td>178.010</td>\n",
       "      <td>176.395</td>\n",
       "      <td>180.155</td>\n",
       "      <td>176.87</td>\n",
       "      <td>82594.0</td>\n",
       "      <td>-1.410256</td>\n",
       "    </tr>\n",
       "    <tr>\n",
       "      <th>247626</th>\n",
       "      <td>2023-10-26</td>\n",
       "      <td>AspenTech</td>\n",
       "      <td>AZPN</td>\n",
       "      <td>1.133000e+10</td>\n",
       "      <td>177.190</td>\n",
       "      <td>176.060</td>\n",
       "      <td>180.280</td>\n",
       "      <td>180.00</td>\n",
       "      <td>156481.0</td>\n",
       "      <td>1.769661</td>\n",
       "    </tr>\n",
       "    <tr>\n",
       "      <th>247627</th>\n",
       "      <td>2023-10-27</td>\n",
       "      <td>AspenTech</td>\n",
       "      <td>AZPN</td>\n",
       "      <td>1.133000e+10</td>\n",
       "      <td>179.460</td>\n",
       "      <td>177.560</td>\n",
       "      <td>180.220</td>\n",
       "      <td>178.49</td>\n",
       "      <td>166534.0</td>\n",
       "      <td>-0.838889</td>\n",
       "    </tr>\n",
       "    <tr>\n",
       "      <th>247628</th>\n",
       "      <td>2023-10-30</td>\n",
       "      <td>AspenTech</td>\n",
       "      <td>AZPN</td>\n",
       "      <td>1.133000e+10</td>\n",
       "      <td>180.430</td>\n",
       "      <td>178.840</td>\n",
       "      <td>181.640</td>\n",
       "      <td>178.84</td>\n",
       "      <td>158621.0</td>\n",
       "      <td>0.196089</td>\n",
       "    </tr>\n",
       "  </tbody>\n",
       "</table>\n",
       "<p>247629 rows × 10 columns</p>\n",
       "</div>"
      ],
      "text/plain": [
       "             Date Company Name Ticker Symbol  Oct2023 Market Cap     Open  \\\n",
       "0      2021-11-01        Apple          AAPL        2.669000e+12  148.985   \n",
       "1      2021-11-02        Apple          AAPL        2.669000e+12  148.660   \n",
       "2      2021-11-03        Apple          AAPL        2.669000e+12  150.390   \n",
       "3      2021-11-04        Apple          AAPL        2.669000e+12  151.580   \n",
       "4      2021-11-05        Apple          AAPL        2.669000e+12  151.890   \n",
       "...           ...          ...           ...                 ...      ...   \n",
       "247624 2023-10-24    AspenTech          AZPN        1.133000e+10  179.000   \n",
       "247625 2023-10-25    AspenTech          AZPN        1.133000e+10  178.010   \n",
       "247626 2023-10-26    AspenTech          AZPN        1.133000e+10  177.190   \n",
       "247627 2023-10-27    AspenTech          AZPN        1.133000e+10  179.460   \n",
       "247628 2023-10-30    AspenTech          AZPN        1.133000e+10  180.430   \n",
       "\n",
       "            Low     High   Close      Volume  Daily Percent Change  \n",
       "0       147.800  149.700  148.96  74588257.0                   NaN  \n",
       "1       148.650  151.570  150.02  69121986.0              0.711600  \n",
       "2       149.820  151.970  151.49  54511532.0              0.979869  \n",
       "3       150.640  152.430  150.96  60394613.0             -0.349858  \n",
       "4       150.060  152.200  151.28  65163883.0              0.211977  \n",
       "...         ...      ...     ...         ...                   ...  \n",
       "247624  178.625  181.740  179.40    136873.0              0.402955  \n",
       "247625  176.395  180.155  176.87     82594.0             -1.410256  \n",
       "247626  176.060  180.280  180.00    156481.0              1.769661  \n",
       "247627  177.560  180.220  178.49    166534.0             -0.838889  \n",
       "247628  178.840  181.640  178.84    158621.0              0.196089  \n",
       "\n",
       "[247629 rows x 10 columns]"
      ]
     },
     "execution_count": 167,
     "metadata": {},
     "output_type": "execute_result"
    }
   ],
   "source": [
    "#filter data so i only get rows from the past 2 years \n",
    "latest_date = US_data_cleaned['Date'].max()\n",
    "two_yearsago = latest_date - pd.Timedelta(days=730)\n",
    "filtered_US_data = US_data_cleaned[US_data_cleaned['Date']> two_yearsago]\n",
    "\n",
    "filtered_US_data"
   ]
  },
  {
   "cell_type": "code",
   "execution_count": 168,
   "id": "3f2d2c54",
   "metadata": {},
   "outputs": [],
   "source": [
    "#calculate volatility by getting the average daily percent change using the filtered date from above \n",
    "volatilty = filtered_US_data.groupby('Company Name')['Daily Percent Change'].mean()\n"
   ]
  },
  {
   "cell_type": "code",
   "execution_count": 169,
   "id": "b5c0ec7f",
   "metadata": {},
   "outputs": [
    {
     "data": {
      "text/plain": [
       "Company Name\n",
       "Meta Platforms (Facebook)    3.506250\n",
       "Supermicro                   0.467459\n",
       "Symbotic                     0.411269\n",
       "Constellation Energy         0.201680\n",
       "Celsius Holdings\\r\\n         0.195889\n",
       "Name: Daily Percent Change, dtype: float64"
      ]
     },
     "execution_count": 169,
     "metadata": {},
     "output_type": "execute_result"
    }
   ],
   "source": [
    "#sort stocks and get top 5 stocks with highest average daily percent changes (volatility)\n",
    "top5_volatile_stocks = volatilty.sort_values(ascending=False).head(5)\n",
    "\n",
    "top5_volatile_stocks"
   ]
  },
  {
   "cell_type": "code",
   "execution_count": 170,
   "id": "eb5629a2",
   "metadata": {},
   "outputs": [
    {
     "name": "stderr",
     "output_type": "stream",
     "text": [
      "c:\\Users\\IRC-240\\anaconda3\\Lib\\site-packages\\seaborn\\_oldcore.py:1498: FutureWarning: is_categorical_dtype is deprecated and will be removed in a future version. Use isinstance(dtype, CategoricalDtype) instead\n",
      "  if pd.api.types.is_categorical_dtype(vector):\n",
      "c:\\Users\\IRC-240\\anaconda3\\Lib\\site-packages\\seaborn\\_oldcore.py:1498: FutureWarning: is_categorical_dtype is deprecated and will be removed in a future version. Use isinstance(dtype, CategoricalDtype) instead\n",
      "  if pd.api.types.is_categorical_dtype(vector):\n",
      "c:\\Users\\IRC-240\\anaconda3\\Lib\\site-packages\\seaborn\\_oldcore.py:1498: FutureWarning: is_categorical_dtype is deprecated and will be removed in a future version. Use isinstance(dtype, CategoricalDtype) instead\n",
      "  if pd.api.types.is_categorical_dtype(vector):\n",
      ") missing from current font.ib\\site-packages\\IPython\\core\\pylabtools.py:152: UserWarning: Glyph 13 (\n",
      "  fig.canvas.print_figure(bytes_io, **kw)\n"
     ]
    },
    {
     "data": {
      "image/png": "[encoded data removed]",
      "text/plain": [
       "<Figure size 640x480 with 1 Axes>"
      ]
     },
     "metadata": {},
     "output_type": "display_data"
    }
   ],
   "source": [
    "#plot the 5 winners and compare \n",
    "sns.barplot(x=top5_volatile_stocks.index, y=top5_volatile_stocks.values)\n",
    "plt.title('Top 5 Most Volatile Stocks')\n",
    "plt.ylabel('Average Daily Percent Change(%)')\n",
    "plt.xticks(rotation=45)\n",
    "plt.show()\n"
   ]
  },
  {
   "cell_type": "markdown",
   "id": "ec0e9c45",
   "metadata": {},
   "source": [
    "Q3 Compare the Market Cap trend for TSLA (tesla) and T (AT&T) which had more growth based on price?\n"
   ]
  },
  {
   "cell_type": "code",
   "execution_count": 171,
   "id": "0fc167bf",
   "metadata": {},
   "outputs": [],
   "source": [
    "#rough notes \n",
    "#filter the two stocks data for the last 2 years \n",
    "#calculate market cap group each month for each stock\n",
    "#plot on line graph"
   ]
  },
  {
   "cell_type": "code",
   "execution_count": 172,
   "id": "5489c0f2",
   "metadata": {},
   "outputs": [
    {
     "ename": "NameError",
     "evalue": "name 'Ok' is not defined",
     "output_type": "error",
     "traceback": [
      "\u001b[1;31m---------------------------------------------------------------------------\u001b[0m",
      "\u001b[1;31mNameError\u001b[0m                                 Traceback (most recent call last)",
      "\u001b[1;32mc:\\Users\\IRC-240\\Desktop\\LHL Bootcamo\\LHL_DS-Midterm-Project\\Notebooks\\edatest - Copy.ipynb Cell 25\u001b[0m line \u001b[0;36m1\n\u001b[0;32m      <a href='vscode-notebook-cell:/c%3A/Users/IRC-240/Desktop/LHL%20Bootcamo/LHL_DS-Midterm-Project/Notebooks/edatest%20-%20Copy.ipynb#X54sZmlsZQ%3D%3D?line=6'>7</a>\u001b[0m tsla_data \u001b[39m=\u001b[39m US_data_cleaned[(US_data_cleaned[\u001b[39m'\u001b[39m\u001b[39mTicker Symbol\u001b[39m\u001b[39m'\u001b[39m]\u001b[39m==\u001b[39m \u001b[39m'\u001b[39m\u001b[39mTSLA\u001b[39m\u001b[39m'\u001b[39m) \u001b[39m&\u001b[39m (US_data_cleaned[\u001b[39m'\u001b[39m\u001b[39mDate\u001b[39m\u001b[39m'\u001b[39m]\u001b[39m>\u001b[39m\u001b[39m=\u001b[39m start_date) \u001b[39m&\u001b[39m (US_data_cleaned[\u001b[39m'\u001b[39m\u001b[39mDate\u001b[39m\u001b[39m'\u001b[39m]\u001b[39m<\u001b[39m\u001b[39m=\u001b[39m end_date)]\n\u001b[0;32m      <a href='vscode-notebook-cell:/c%3A/Users/IRC-240/Desktop/LHL%20Bootcamo/LHL_DS-Midterm-Project/Notebooks/edatest%20-%20Copy.ipynb#X54sZmlsZQ%3D%3D?line=7'>8</a>\u001b[0m t_data \u001b[39m=\u001b[39m US_data_cleaned[(US_data_cleaned[\u001b[39m'\u001b[39m\u001b[39mTicker Symbol\u001b[39m\u001b[39m'\u001b[39m]\u001b[39m==\u001b[39m \u001b[39m'\u001b[39m\u001b[39mT\u001b[39m\u001b[39m'\u001b[39m) \u001b[39m&\u001b[39m (US_data_cleaned[\u001b[39m'\u001b[39m\u001b[39mDate\u001b[39m\u001b[39m'\u001b[39m]\u001b[39m>\u001b[39m\u001b[39m=\u001b[39m start_date) \u001b[39m&\u001b[39m (US_data_cleaned[\u001b[39m'\u001b[39m\u001b[39mDate\u001b[39m\u001b[39m'\u001b[39m]\u001b[39m<\u001b[39m\u001b[39m=\u001b[39m end_date)]\n\u001b[1;32m---> <a href='vscode-notebook-cell:/c%3A/Users/IRC-240/Desktop/LHL%20Bootcamo/LHL_DS-Midterm-Project/Notebooks/edatest%20-%20Copy.ipynb#X54sZmlsZQ%3D%3D?line=9'>10</a>\u001b[0m Ok\n",
      "\u001b[1;31mNameError\u001b[0m: name 'Ok' is not defined"
     ]
    }
   ],
   "source": [
    "#filter the two stocks data for the last 2 years (oct 2023 - nov 2021)\n",
    "\n",
    "#define dates to use\n",
    "start_date = '2021-11-01'\n",
    "end_date = '2023-10-30'\n",
    "#filter for tsla and T\n",
    "tsla_data = US_data_cleaned[(US_data_cleaned['Ticker Symbol']== 'TSLA') & (US_data_cleaned['Date']>= start_date) & (US_data_cleaned['Date']<= end_date)]\n",
    "t_data = US_data_cleaned[(US_data_cleaned['Ticker Symbol']== 'T') & (US_data_cleaned['Date']>= start_date) & (US_data_cleaned['Date']<= end_date)]\n",
    "\n",
    "Ok\n"
   ]
  },
  {
   "cell_type": "code",
   "execution_count": null,
   "id": "4951b238",
   "metadata": {},
   "outputs": [
    {
     "name": "stdout",
     "output_type": "stream",
     "text": [
      "TSLA Growth: -51.01%\n",
      "T Growth: -39.85%\n"
     ]
    },
    {
     "name": "stderr",
     "output_type": "stream",
     "text": [
      "C:\\Users\\IRC-240\\AppData\\Local\\Temp\\ipykernel_12728\\2434755991.py:2: SettingWithCopyWarning: \n",
      "A value is trying to be set on a copy of a slice from a DataFrame.\n",
      "Try using .loc[row_indexer,col_indexer] = value instead\n",
      "\n",
      "See the caveats in the documentation: https://pandas.pydata.org/pandas-docs/stable/user_guide/indexing.html#returning-a-view-versus-a-copy\n",
      "  tsla_data['Price Growth'] = (tsla_data['Close'] - tsla_data['Close'].iloc[0]) / tsla_data['Close'].iloc[0]\n",
      "C:\\Users\\IRC-240\\AppData\\Local\\Temp\\ipykernel_12728\\2434755991.py:3: SettingWithCopyWarning: \n",
      "A value is trying to be set on a copy of a slice from a DataFrame.\n",
      "Try using .loc[row_indexer,col_indexer] = value instead\n",
      "\n",
      "See the caveats in the documentation: https://pandas.pydata.org/pandas-docs/stable/user_guide/indexing.html#returning-a-view-versus-a-copy\n",
      "  t_data['Price Growth'] = (t_data['Close'] - t_data['Close'].iloc[0]) / t_data['Close'].iloc[0]\n"
     ]
    }
   ],
   "source": [
    "#calculate price growth per day for the last 2 years \n",
    "tsla_data['Price Growth'] = (tsla_data['Close'] - tsla_data['Close'].iloc[0]) / tsla_data['Close'].iloc[0]\n",
    "t_data['Price Growth'] = (t_data['Close'] - t_data['Close'].iloc[0]) / t_data['Close'].iloc[0]\n",
    "\n",
    "#print the final growth percentage and compare answers for Tsla and T \n",
    "totalgrowth_tsla = tsla_data['Price Growth'].iloc[-1]\n",
    "totalgrowth_t = t_data['Price Growth'].iloc[-1]\n",
    "\n",
    "print(f'TSLA Growth: {totalgrowth_tsla * 100:.2f}%') \n",
    "print(f'T Growth: {totalgrowth_t * 100:.2f}%') \n"
   ]
  },
  {
   "cell_type": "code",
   "execution_count": null,
   "id": "3b6bec6a",
   "metadata": {},
   "outputs": [
    {
     "name": "stderr",
     "output_type": "stream",
     "text": [
      "C:\\Users\\IRC-240\\AppData\\Local\\Temp\\ipykernel_12728\\167034857.py:3: FutureWarning: \n",
      "\n",
      "The `ci` parameter is deprecated. Use `errorbar=None` for the same effect.\n",
      "\n",
      "  sns.lineplot(data= tsla_data, x='Date', y='Price Growth', label= 'TSLA', ci=None)\n",
      "c:\\Users\\IRC-240\\anaconda3\\Lib\\site-packages\\seaborn\\_oldcore.py:1498: FutureWarning: is_categorical_dtype is deprecated and will be removed in a future version. Use isinstance(dtype, CategoricalDtype) instead\n",
      "  if pd.api.types.is_categorical_dtype(vector):\n",
      "c:\\Users\\IRC-240\\anaconda3\\Lib\\site-packages\\seaborn\\_oldcore.py:1498: FutureWarning: is_categorical_dtype is deprecated and will be removed in a future version. Use isinstance(dtype, CategoricalDtype) instead\n",
      "  if pd.api.types.is_categorical_dtype(vector):\n",
      "c:\\Users\\IRC-240\\anaconda3\\Lib\\site-packages\\seaborn\\_oldcore.py:1119: FutureWarning: use_inf_as_na option is deprecated and will be removed in a future version. Convert inf values to NaN before operating instead.\n",
      "  with pd.option_context('mode.use_inf_as_na', True):\n",
      "c:\\Users\\IRC-240\\anaconda3\\Lib\\site-packages\\seaborn\\_oldcore.py:1119: FutureWarning: use_inf_as_na option is deprecated and will be removed in a future version. Convert inf values to NaN before operating instead.\n",
      "  with pd.option_context('mode.use_inf_as_na', True):\n",
      "C:\\Users\\IRC-240\\AppData\\Local\\Temp\\ipykernel_12728\\167034857.py:4: FutureWarning: \n",
      "\n",
      "The `ci` parameter is deprecated. Use `errorbar=None` for the same effect.\n",
      "\n",
      "  sns.lineplot(data= t_data, x='Date', y='Price Growth', label= 'T', ci=None)\n",
      "c:\\Users\\IRC-240\\anaconda3\\Lib\\site-packages\\seaborn\\_oldcore.py:1498: FutureWarning: is_categorical_dtype is deprecated and will be removed in a future version. Use isinstance(dtype, CategoricalDtype) instead\n",
      "  if pd.api.types.is_categorical_dtype(vector):\n",
      "c:\\Users\\IRC-240\\anaconda3\\Lib\\site-packages\\seaborn\\_oldcore.py:1498: FutureWarning: is_categorical_dtype is deprecated and will be removed in a future version. Use isinstance(dtype, CategoricalDtype) instead\n",
      "  if pd.api.types.is_categorical_dtype(vector):\n",
      "c:\\Users\\IRC-240\\anaconda3\\Lib\\site-packages\\seaborn\\_oldcore.py:1119: FutureWarning: use_inf_as_na option is deprecated and will be removed in a future version. Convert inf values to NaN before operating instead.\n",
      "  with pd.option_context('mode.use_inf_as_na', True):\n",
      "c:\\Users\\IRC-240\\anaconda3\\Lib\\site-packages\\seaborn\\_oldcore.py:1119: FutureWarning: use_inf_as_na option is deprecated and will be removed in a future version. Convert inf values to NaN before operating instead.\n",
      "  with pd.option_context('mode.use_inf_as_na', True):\n"
     ]
    },
    {
     "data": {
      "text/plain": [
       "<function matplotlib.pyplot.show(close=None, block=None)>"
      ]
     },
     "execution_count": 141,
     "metadata": {},
     "output_type": "execute_result"
    },
    {
     "data": {
      "image/png": "[encoded data removed]",
      "text/plain": [
       "<Figure size 1200x600 with 1 Axes>"
      ]
     },
     "metadata": {},
     "output_type": "display_data"
    }
   ],
   "source": [
    "#plot the results \n",
    "plt.figure(figsize=(12, 6))\n",
    "sns.lineplot(data= tsla_data, x='Date', y='Price Growth', label= 'TSLA', ci=None)\n",
    "sns.lineplot(data= t_data, x='Date', y='Price Growth', label= 'T', ci=None)\n",
    "plt.title(\"TSLA vs T : Comparing Growth\")\n",
    "plt.ylabel('Price Growth 2021-2023')\n",
    "plt.xlabel('Date')\n",
    "plt.legend()\n",
    "plt.show"
   ]
  },
  {
   "cell_type": "markdown",
   "id": "4dec86b7",
   "metadata": {},
   "source": [
    "Q4 Which 5 Stocks had the lowest return in the last 2 years "
   ]
  },
  {
   "cell_type": "code",
   "execution_count": null,
   "id": "da9a525e",
   "metadata": {},
   "outputs": [],
   "source": [
    "#use previously date filtered data 'start_date' and 'end_date'  \n",
    "# find out the initial price 2 years ago \n",
    "startprice = US_data_cleaned[US_data_cleaned['Date'] == start_date].set_index('Ticker Symbol')['Close']\n",
    "endprice = US_data_cleaned[US_data_cleaned['Date'] == end_date].set_index('Ticker Symbol')['Close']\n"
   ]
  },
  {
   "cell_type": "code",
   "execution_count": null,
   "id": "00f875b0",
   "metadata": {},
   "outputs": [],
   "source": [
    "#calculate percent change of price from nov 2021 to oct 2023\n",
    "price_change = ((endprice - startprice) / startprice) * 100 \n"
   ]
  },
  {
   "cell_type": "code",
   "execution_count": null,
   "id": "90017dab",
   "metadata": {},
   "outputs": [
    {
     "name": "stdout",
     "output_type": "stream",
     "text": [
      "Ticker Symbol\n",
      "SQ     -84.622020\n",
      "SNAP   -82.030382\n",
      "ZM     -78.489998\n",
      "MRNA   -78.031853\n",
      "PYPL   -77.927188\n",
      "Name: Close, dtype: float64\n"
     ]
    }
   ],
   "source": [
    "# select the bottom 5 values from price change func\n",
    "five_worst_performers = price_change.nsmallest(5)\n",
    "\n",
    "print(five_worst_performers)"
   ]
  },
  {
   "cell_type": "markdown",
   "id": "a7abc1b0",
   "metadata": {},
   "source": [
    "Logistic Modelling For Stock Trades "
   ]
  },
  {
   "cell_type": "code",
   "execution_count": 173,
   "id": "86f7ec79",
   "metadata": {},
   "outputs": [],
   "source": [
    "#imports \n",
    "from sklearn.model_selection import train_test_split\n",
    "from sklearn.linear_model import LogisticRegression\n",
    "from sklearn.metrics import accuracy_score\n"
   ]
  },
  {
   "cell_type": "code",
   "execution_count": null,
   "id": "5e6f3ab2",
   "metadata": {},
   "outputs": [],
   "source": [
    "#rough notes \n",
    "#to build logistic model that predicts next day stock price to go up (1) or otherwise(0)\n",
    "#this is built on predictor variables and target variables and may be inaccurate or may produce unmeaningful results \n",
    "\n",
    "#create binary target variable\n",
    "#prep data for model \n",
    "#build model \n",
    "#run tests to see if model is accurate \n",
    "#See the results "
   ]
  },
  {
   "cell_type": "code",
   "execution_count": 174,
   "id": "6b991b6f",
   "metadata": {},
   "outputs": [
    {
     "name": "stderr",
     "output_type": "stream",
     "text": [
      "C:\\Users\\IRC-240\\AppData\\Local\\Temp\\ipykernel_12728\\1498919467.py:4: SettingWithCopyWarning: \n",
      "A value is trying to be set on a copy of a slice from a DataFrame.\n",
      "Try using .loc[row_indexer,col_indexer] = value instead\n",
      "\n",
      "See the caveats in the documentation: https://pandas.pydata.org/pandas-docs/stable/user_guide/indexing.html#returning-a-view-versus-a-copy\n",
      "  US_data_cleaned['Next Day Close'] = US_data_cleaned['Close'].shift(-1)\n",
      "C:\\Users\\IRC-240\\AppData\\Local\\Temp\\ipykernel_12728\\1498919467.py:5: SettingWithCopyWarning: \n",
      "A value is trying to be set on a copy of a slice from a DataFrame.\n",
      "Try using .loc[row_indexer,col_indexer] = value instead\n",
      "\n",
      "See the caveats in the documentation: https://pandas.pydata.org/pandas-docs/stable/user_guide/indexing.html#returning-a-view-versus-a-copy\n",
      "  US_data_cleaned['Price up'] = US_data_cleaned.apply(lambda row: 1 if row['Next Day Close']> row['Close'] else 0, axis=1)\n"
     ]
    }
   ],
   "source": [
    "#create binary target variable\n",
    "\n",
    "\n",
    "US_data_cleaned['Next Day Close'] = US_data_cleaned['Close'].shift(-1)\n",
    "US_data_cleaned['Price up'] = US_data_cleaned.apply(lambda row: 1 if row['Next Day Close']> row['Close'] else 0, axis=1)\n",
    "\n"
   ]
  },
  {
   "cell_type": "code",
   "execution_count": 176,
   "id": "f8302a9f",
   "metadata": {},
   "outputs": [],
   "source": [
    "#set x and y and prepare data \n",
    "X = US_data_cleaned[['Open', 'Low', 'High', 'Volume']]\n",
    "y = US_data_cleaned['Price up']\n",
    "\n",
    "X_train, X_test, y_train, y_test = train_test_split(X, y, test_size=0.2)\n",
    "\n"
   ]
  },
  {
   "cell_type": "code",
   "execution_count": 177,
   "id": "6d340c3e",
   "metadata": {},
   "outputs": [
    {
     "data": {
      "text/html": [
       "<style>#sk-container-id-1 {color: black;}#sk-container-id-1 pre{padding: 0;}#sk-container-id-1 div.sk-toggleable {background-color: white;}#sk-container-id-1 label.sk-toggleable__label {cursor: pointer;display: block;width: 100%;margin-bottom: 0;padding: 0.3em;box-sizing: border-box;text-align: center;}#sk-container-id-1 label.sk-toggleable__label-arrow:before {content: \"▸\";float: left;margin-right: 0.25em;color: #696969;}#sk-container-id-1 label.sk-toggleable__label-arrow:hover:before {color: black;}#sk-container-id-1 div.sk-estimator:hover label.sk-toggleable__label-arrow:before {color: black;}#sk-container-id-1 div.sk-toggleable__content {max-height: 0;max-width: 0;overflow: hidden;text-align: left;background-color: #f0f8ff;}#sk-container-id-1 div.sk-toggleable__content pre {margin: 0.2em;color: black;border-radius: 0.25em;background-color: #f0f8ff;}#sk-container-id-1 input.sk-toggleable__control:checked~div.sk-toggleable__content {max-height: 200px;max-width: 100%;overflow: auto;}#sk-container-id-1 input.sk-toggleable__control:checked~label.sk-toggleable__label-arrow:before {content: \"▾\";}#sk-container-id-1 div.sk-estimator input.sk-toggleable__control:checked~label.sk-toggleable__label {background-color: #d4ebff;}#sk-container-id-1 div.sk-label input.sk-toggleable__control:checked~label.sk-toggleable__label {background-color: #d4ebff;}#sk-container-id-1 input.sk-hidden--visually {border: 0;clip: rect(1px 1px 1px 1px);clip: rect(1px, 1px, 1px, 1px);height: 1px;margin: -1px;overflow: hidden;padding: 0;position: absolute;width: 1px;}#sk-container-id-1 div.sk-estimator {font-family: monospace;background-color: #f0f8ff;border: 1px dotted black;border-radius: 0.25em;box-sizing: border-box;margin-bottom: 0.5em;}#sk-container-id-1 div.sk-estimator:hover {background-color: #d4ebff;}#sk-container-id-1 div.sk-parallel-item::after {content: \"\";width: 100%;border-bottom: 1px solid gray;flex-grow: 1;}#sk-container-id-1 div.sk-label:hover label.sk-toggleable__label {background-color: #d4ebff;}#sk-container-id-1 div.sk-serial::before {content: \"\";position: absolute;border-left: 1px solid gray;box-sizing: border-box;top: 0;bottom: 0;left: 50%;z-index: 0;}#sk-container-id-1 div.sk-serial {display: flex;flex-direction: column;align-items: center;background-color: white;padding-right: 0.2em;padding-left: 0.2em;position: relative;}#sk-container-id-1 div.sk-item {position: relative;z-index: 1;}#sk-container-id-1 div.sk-parallel {display: flex;align-items: stretch;justify-content: center;background-color: white;position: relative;}#sk-container-id-1 div.sk-item::before, #sk-container-id-1 div.sk-parallel-item::before {content: \"\";position: absolute;border-left: 1px solid gray;box-sizing: border-box;top: 0;bottom: 0;left: 50%;z-index: -1;}#sk-container-id-1 div.sk-parallel-item {display: flex;flex-direction: column;z-index: 1;position: relative;background-color: white;}#sk-container-id-1 div.sk-parallel-item:first-child::after {align-self: flex-end;width: 50%;}#sk-container-id-1 div.sk-parallel-item:last-child::after {align-self: flex-start;width: 50%;}#sk-container-id-1 div.sk-parallel-item:only-child::after {width: 0;}#sk-container-id-1 div.sk-dashed-wrapped {border: 1px dashed gray;margin: 0 0.4em 0.5em 0.4em;box-sizing: border-box;padding-bottom: 0.4em;background-color: white;}#sk-container-id-1 div.sk-label label {font-family: monospace;font-weight: bold;display: inline-block;line-height: 1.2em;}#sk-container-id-1 div.sk-label-container {text-align: center;}#sk-container-id-1 div.sk-container {/* jupyter's `normalize.less` sets `[hidden] { display: none; }` but bootstrap.min.css set `[hidden] { display: none !important; }` so we also need the `!important` here to be able to override the default hidden behavior on the sphinx rendered scikit-learn.org. See: https://github.com/scikit-learn/scikit-learn/issues/21755 */display: inline-block !important;position: relative;}#sk-container-id-1 div.sk-text-repr-fallback {display: none;}</style><div id=\"sk-container-id-1\" class=\"sk-top-container\"><div class=\"sk-text-repr-fallback\"><pre>LogisticRegression()</pre><b>In a Jupyter environment, please rerun this cell to show the HTML representation or trust the notebook. <br />On GitHub, the HTML representation is unable to render, please try loading this page with nbviewer.org.</b></div><div class=\"sk-container\" hidden><div class=\"sk-item\"><div class=\"sk-estimator sk-toggleable\"><input class=\"sk-toggleable__control sk-hidden--visually\" id=\"sk-estimator-id-1\" type=\"checkbox\" checked><label for=\"sk-estimator-id-1\" class=\"sk-toggleable__label sk-toggleable__label-arrow\">LogisticRegression</label><div class=\"sk-toggleable__content\"><pre>LogisticRegression()</pre></div></div></div></div></div>"
      ],
      "text/plain": [
       "LogisticRegression()"
      ]
     },
     "execution_count": 177,
     "metadata": {},
     "output_type": "execute_result"
    }
   ],
   "source": [
    "#build model \n",
    "pricepredictor_model = LogisticRegression()\n",
    "pricepredictor_model.fit(X_train, y_train)\n",
    "\n"
   ]
  },
  {
   "cell_type": "code",
   "execution_count": 179,
   "id": "e4a58e5f",
   "metadata": {},
   "outputs": [
    {
     "data": {
      "text/plain": [
       "0.4994144489762953"
      ]
     },
     "execution_count": 179,
     "metadata": {},
     "output_type": "execute_result"
    }
   ],
   "source": [
    "price_prediction = pricepredictor_model.predict(X_test)\n",
    "model_accuracy = accuracy_score(y_test, price_prediction)\n",
    "model_accuracy"
   ]
  },
  {
   "cell_type": "code",
   "execution_count": 181,
   "id": "726b36cc",
   "metadata": {},
   "outputs": [
    {
     "data": {
      "text/plain": [
       "array([[ 1.92376658e-14,  1.92422701e-14,  1.96211869e-14,\n",
       "        -4.22537237e-10]])"
      ]
     },
     "execution_count": 181,
     "metadata": {},
     "output_type": "execute_result"
    }
   ],
   "source": [
    "model_coefficients = pricepredictor_model.coef_\n",
    "model_coefficients"
   ]
  },
  {
   "cell_type": "code",
   "execution_count": null,
   "id": "6c49527a",
   "metadata": {},
   "outputs": [],
   "source": [
    "#model interpretations \n",
    "#based on accuracy score and coefficients being extremely small, the model tells us that the open, close, high and low of a the previous\n",
    "#days stock has very little to do on how the stock will do the next day.\n",
    "#this is likely due to our very barebones data set and simplistic modelling , but also the nature of the stock market as it is truly \n",
    "#impossible to predict it with 100 percent accuracy. "
   ]
  },
  {
   "cell_type": "code",
   "execution_count": null,
   "id": "5e7518cc",
   "metadata": {},
   "outputs": [],
   "source": []
  }
 ],
 "metadata": {
  "kernelspec": {
   "display_name": "Python 3 (ipykernel)",
   "language": "python",
   "name": "python3"
  },
  "language_info": {
   "codemirror_mode": {
    "name": "ipython",
    "version": 3
   },
   "file_extension": ".py",
   "mimetype": "text/x-python",
   "name": "python",
   "nbconvert_exporter": "python",
   "pygments_lexer": "ipython3",
   "version": "3.11.5"
  }
 },
 "nbformat": 4,
 "nbformat_minor": 5
}
